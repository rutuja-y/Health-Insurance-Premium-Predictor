{
 "cells": [
  {
   "cell_type": "code",
   "execution_count": 1,
   "id": "41bc8f1a-2fe0-45d1-aa4b-a22f2969b14c",
   "metadata": {},
   "outputs": [],
   "source": [
    "import pandas as pd"
   ]
  },
  {
   "cell_type": "code",
   "execution_count": 2,
   "id": "bd0719ab-6fc6-4c17-a26c-8cf14c058be5",
   "metadata": {},
   "outputs": [],
   "source": [
    "df = pd.read_csv('../../datasets/Health_insurance.csv')"
   ]
  },
  {
   "cell_type": "code",
   "execution_count": 3,
   "id": "ab7f76a0-64d5-4c71-9eed-2a253fd8b935",
   "metadata": {},
   "outputs": [
    {
     "data": {
      "text/plain": [
       "(1338, 7)"
      ]
     },
     "execution_count": 3,
     "metadata": {},
     "output_type": "execute_result"
    }
   ],
   "source": [
    "df.shape"
   ]
  },
  {
   "cell_type": "code",
   "execution_count": 4,
   "id": "3e073bf2-2d77-47c5-9b46-239988d502d8",
   "metadata": {},
   "outputs": [],
   "source": [
    "#AGE, SEX, BMI, CHILDREN, SMOKER \n",
    "df['sex_enc'] = df['sex'].apply(lambda x:1 if x=='female' else 0)\n",
    "df['smoker_enc'] = df['smoker'].map({'yes':1, 'no':0})"
   ]
  },
  {
   "cell_type": "code",
   "execution_count": 5,
   "id": "3b2494dc-aa92-4281-9547-c68941616d68",
   "metadata": {},
   "outputs": [],
   "source": [
    "X = df[['age','sex_enc','bmi','children','smoker_enc']]\n",
    "y = df['charges']"
   ]
  },
  {
   "cell_type": "code",
   "execution_count": 6,
   "id": "e87d2ae4-440e-4d7d-abe3-6ec4676eea06",
   "metadata": {},
   "outputs": [
    {
     "data": {
      "text/plain": [
       "(np.float64(-12181.101839234441),\n",
       " array([  257.73498767,   128.63985357,   322.36421449,   474.41112061,\n",
       "        23823.39253065]))"
      ]
     },
     "execution_count": 6,
     "metadata": {},
     "output_type": "execute_result"
    }
   ],
   "source": [
    "from sklearn.linear_model import LinearRegression\n",
    "model = LinearRegression()\n",
    "model.fit(X,y)\n",
    "model.intercept_, model.coef_"
   ]
  },
  {
   "cell_type": "code",
   "execution_count": 7,
   "id": "490dafe4-c730-4d3a-bf2b-b3d85ecd5eee",
   "metadata": {},
   "outputs": [],
   "source": [
    "customer = {'age': [34, 23, 28],\n",
    "    'sex': ['male', 'female', 'male'],\n",
    "    'bmi': [25.0, 20, 21],\n",
    "    'children': [2, 0, 1],\n",
    "    'smoker': ['no','no','yes']}"
   ]
  },
  {
   "cell_type": "code",
   "execution_count": 8,
   "id": "ec582d00-93e5-4142-a6d1-41292fbc935b",
   "metadata": {},
   "outputs": [],
   "source": [
    "customer = pd.DataFrame(customer)"
   ]
  },
  {
   "cell_type": "code",
   "execution_count": 9,
   "id": "bda188f6-fc37-418c-b312-1ed337163330",
   "metadata": {},
   "outputs": [],
   "source": [
    "customer['sex_enc'] = customer['sex'].apply(lambda x:1 if x=='female' else 0)\n",
    "customer['smoker_enc'] = customer['smoker'].map({'yes':1, 'no':0})"
   ]
  },
  {
   "cell_type": "code",
   "execution_count": 10,
   "id": "53dfeb6b-513d-411d-82de-fb6b190d0111",
   "metadata": {},
   "outputs": [
    {
     "data": {
      "text/plain": [
       "array([ 5589.8153449 ,   322.72702045, 26102.92997098])"
      ]
     },
     "execution_count": 10,
     "metadata": {},
     "output_type": "execute_result"
    }
   ],
   "source": [
    "model.predict(customer[['age', 'sex_enc', 'bmi', 'children', 'smoker_enc']])"
   ]
  },
  {
   "cell_type": "code",
   "execution_count": 11,
   "id": "52df8b42-5028-40ee-b255-9aacd13bb2c7",
   "metadata": {},
   "outputs": [],
   "source": [
    "import pickle"
   ]
  },
  {
   "cell_type": "code",
   "execution_count": 12,
   "id": "91a950a6-ba8d-4e23-8e52-67d0e613b81c",
   "metadata": {},
   "outputs": [],
   "source": [
    "pickle.dump(model,open('model.pkl','wb'))"
   ]
  },
  {
   "cell_type": "code",
   "execution_count": null,
   "id": "3c4b1a2f-1b4b-4471-a6b4-01f8c1cf2cc9",
   "metadata": {},
   "outputs": [],
   "source": []
  }
 ],
 "metadata": {
  "kernelspec": {
   "display_name": "Python [conda env:base] *",
   "language": "python",
   "name": "conda-base-py"
  },
  "language_info": {
   "codemirror_mode": {
    "name": "ipython",
    "version": 3
   },
   "file_extension": ".py",
   "mimetype": "text/x-python",
   "name": "python",
   "nbconvert_exporter": "python",
   "pygments_lexer": "ipython3",
   "version": "3.13.5"
  }
 },
 "nbformat": 4,
 "nbformat_minor": 5
}
